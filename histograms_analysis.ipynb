{
 "metadata": {
  "language_info": {
   "codemirror_mode": {
    "name": "ipython",
    "version": 3
   },
   "file_extension": ".py",
   "mimetype": "text/x-python",
   "name": "python",
   "nbconvert_exporter": "python",
   "pygments_lexer": "ipython3",
   "version": "3.6.9-final"
  },
  "orig_nbformat": 2,
  "kernelspec": {
   "name": "python_defaultSpec_1597354969879",
   "display_name": "Python 3.6.9 64-bit ('cs838_3.6': conda)"
  }
 },
 "nbformat": 4,
 "nbformat_minor": 2,
 "cells": [
  {
   "cell_type": "code",
   "execution_count": 22,
   "metadata": {},
   "outputs": [],
   "source": [
    "import pandas as pd\n",
    "import numpy as np\n",
    "from scipy.stats import norm\n",
    "import matplotlib.pyplot as plt"
   ]
  },
  {
   "cell_type": "code",
   "execution_count": 23,
   "metadata": {},
   "outputs": [],
   "source": [
    "def plot_histogram(cifar_conf_vals, noncifar_conf_vals, dataset):\n",
    "    fig, axs = plt.subplots(1, 2, constrained_layout=True)\n",
    "\n",
    "    mu, std = norm.fit(cifar_conf_vals)\n",
    "    axs[0].hist(cifar_conf_vals, bins=100)\n",
    "    axs[0].set_title('P1: $\\mu=%.2f, \\sigma=%.2f$ \\ncount=%d' % (mu, std, len(cifar_conf_vals)))\n",
    "    axs[0].set_xlabel('Confidence')\n",
    "    axs[0].set_ylabel('Number of examples')\n",
    "\n",
    "    mu, std = norm.fit(noncifar_conf_vals)\n",
    "    axs[1].hist(noncifar_conf_vals, bins=100)\n",
    "    axs[1].set_title('Non-CIFAR: $\\mu=%.2f, \\sigma=%.2f$ \\ncount=%d' % (mu, std, len(noncifar_conf_vals)))\n",
    "    axs[1].set_xlabel('Confidence')\n",
    "    axs[1].set_ylabel('Number of examples')\n",
    "\n",
    "    fig.suptitle('Histogram for {} Dataset confidence distribution for R subset'.format(dataset), fontsize=14)\n",
    "    \n",
    "    plt.show()\n",
    "    # plt.savefig('{}_hist.png'.format(dataset))\n"
   ]
  },
  {
   "cell_type": "code",
   "execution_count": 24,
   "metadata": {},
   "outputs": [],
   "source": [
    "def plot_W_histogram():\n",
    "    import matplotlib.pyplot as plt\n",
    "\n",
    "    df = pd.read_csv('cifar10-vs-ti/tinyimages.csv')\n",
    "\n",
    "    # print(df)\n",
    "\n",
    "    confs, is_c10 = df.iloc[:, 2:13], df.iloc[:, -2]\n",
    "    # print(confs.shape)\n",
    "    # print(confs)\n",
    "\n",
    "    any_more_8 = confs.iloc[:, :-1].max(axis=1) > .8\n",
    "    conf_more_8 = confs[any_more_8]\n",
    "\n",
    "    p1_confs = conf_more_8.iloc[:, :-1].max(axis=1)\n",
    "    last_confs = conf_more_8.iloc[:, -1]\n",
    "\n",
    "    plot_histogram(p1_confs, last_confs, 'tinyimages')\n",
    "\n"
   ]
  },
  {
   "cell_type": "code",
   "execution_count": 25,
   "metadata": {
    "tags": []
   },
   "outputs": [
    {
     "output_type": "error",
     "ename": "AttributeError",
     "evalue": "'AxesSubplot' object has no attribute 'xlim'",
     "traceback": [
      "\u001b[0;31m---------------------------------------------------------------------------\u001b[0m",
      "\u001b[0;31mAttributeError\u001b[0m                            Traceback (most recent call last)",
      "\u001b[0;32m<ipython-input-25-6fe3ca4cecfb>\u001b[0m in \u001b[0;36m<module>\u001b[0;34m\u001b[0m\n\u001b[0;32m----> 1\u001b[0;31m \u001b[0mplot_W_histogram\u001b[0m\u001b[0;34m(\u001b[0m\u001b[0;34m)\u001b[0m\u001b[0;34m\u001b[0m\u001b[0;34m\u001b[0m\u001b[0m\n\u001b[0m",
      "\u001b[0;32m<ipython-input-24-fab1320ad53a>\u001b[0m in \u001b[0;36mplot_W_histogram\u001b[0;34m()\u001b[0m\n\u001b[1;32m     16\u001b[0m     \u001b[0mlast_confs\u001b[0m \u001b[0;34m=\u001b[0m \u001b[0mconf_more_8\u001b[0m\u001b[0;34m.\u001b[0m\u001b[0miloc\u001b[0m\u001b[0;34m[\u001b[0m\u001b[0;34m:\u001b[0m\u001b[0;34m,\u001b[0m \u001b[0;34m-\u001b[0m\u001b[0;36m1\u001b[0m\u001b[0;34m]\u001b[0m\u001b[0;34m\u001b[0m\u001b[0;34m\u001b[0m\u001b[0m\n\u001b[1;32m     17\u001b[0m \u001b[0;34m\u001b[0m\u001b[0m\n\u001b[0;32m---> 18\u001b[0;31m     \u001b[0mplot_histogram\u001b[0m\u001b[0;34m(\u001b[0m\u001b[0mp1_confs\u001b[0m\u001b[0;34m,\u001b[0m \u001b[0mlast_confs\u001b[0m\u001b[0;34m,\u001b[0m \u001b[0;34m'tinyimages'\u001b[0m\u001b[0;34m)\u001b[0m\u001b[0;34m\u001b[0m\u001b[0;34m\u001b[0m\u001b[0m\n\u001b[0m\u001b[1;32m     19\u001b[0m \u001b[0;34m\u001b[0m\u001b[0m\n",
      "\u001b[0;32m<ipython-input-23-9b0ba3c4cbce>\u001b[0m in \u001b[0;36mplot_histogram\u001b[0;34m(cifar_conf_vals, noncifar_conf_vals, dataset)\u001b[0m\n\u001b[1;32m      4\u001b[0m     \u001b[0mmu\u001b[0m\u001b[0;34m,\u001b[0m \u001b[0mstd\u001b[0m \u001b[0;34m=\u001b[0m \u001b[0mnorm\u001b[0m\u001b[0;34m.\u001b[0m\u001b[0mfit\u001b[0m\u001b[0;34m(\u001b[0m\u001b[0mcifar_conf_vals\u001b[0m\u001b[0;34m)\u001b[0m\u001b[0;34m\u001b[0m\u001b[0;34m\u001b[0m\u001b[0m\n\u001b[1;32m      5\u001b[0m     \u001b[0maxs\u001b[0m\u001b[0;34m[\u001b[0m\u001b[0;36m0\u001b[0m\u001b[0;34m]\u001b[0m\u001b[0;34m.\u001b[0m\u001b[0mhist\u001b[0m\u001b[0;34m(\u001b[0m\u001b[0mcifar_conf_vals\u001b[0m\u001b[0;34m,\u001b[0m \u001b[0mbins\u001b[0m\u001b[0;34m=\u001b[0m\u001b[0;36m100\u001b[0m\u001b[0;34m)\u001b[0m\u001b[0;34m\u001b[0m\u001b[0;34m\u001b[0m\u001b[0m\n\u001b[0;32m----> 6\u001b[0;31m     \u001b[0mxmin\u001b[0m\u001b[0;34m,\u001b[0m \u001b[0mxmax\u001b[0m \u001b[0;34m=\u001b[0m \u001b[0maxs\u001b[0m\u001b[0;34m[\u001b[0m\u001b[0;36m0\u001b[0m\u001b[0;34m]\u001b[0m\u001b[0;34m.\u001b[0m\u001b[0mxlim\u001b[0m\u001b[0;34m(\u001b[0m\u001b[0;34m)\u001b[0m\u001b[0;34m\u001b[0m\u001b[0;34m\u001b[0m\u001b[0m\n\u001b[0m\u001b[1;32m      7\u001b[0m     \u001b[0mx\u001b[0m \u001b[0;34m=\u001b[0m \u001b[0mnp\u001b[0m\u001b[0;34m.\u001b[0m\u001b[0mlinspace\u001b[0m\u001b[0;34m(\u001b[0m\u001b[0mxmin\u001b[0m\u001b[0;34m,\u001b[0m \u001b[0mxmax\u001b[0m\u001b[0;34m,\u001b[0m \u001b[0;36m100\u001b[0m\u001b[0;34m)\u001b[0m\u001b[0;34m\u001b[0m\u001b[0;34m\u001b[0m\u001b[0m\n\u001b[1;32m      8\u001b[0m     \u001b[0mp\u001b[0m \u001b[0;34m=\u001b[0m \u001b[0mnorm\u001b[0m\u001b[0;34m.\u001b[0m\u001b[0mpdf\u001b[0m\u001b[0;34m(\u001b[0m\u001b[0mx\u001b[0m\u001b[0;34m,\u001b[0m \u001b[0mmu\u001b[0m\u001b[0;34m,\u001b[0m \u001b[0mstd\u001b[0m\u001b[0;34m)\u001b[0m\u001b[0;34m\u001b[0m\u001b[0;34m\u001b[0m\u001b[0m\n",
      "\u001b[0;31mAttributeError\u001b[0m: 'AxesSubplot' object has no attribute 'xlim'"
     ]
    }
   ],
   "source": [
    "plot_W_histogram()"
   ]
  },
  {
   "cell_type": "code",
   "execution_count": null,
   "metadata": {},
   "outputs": [],
   "source": []
  }
 ]
}