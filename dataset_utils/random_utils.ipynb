{
 "cells": [
  {
   "cell_type": "code",
   "execution_count": 17,
   "metadata": {},
   "outputs": [],
   "source": [
    "import numpy as np\n",
    "version = 2\n",
    "seed = version\n",
    "import pickle"
   ]
  },
  {
   "cell_type": "code",
   "execution_count": 18,
   "metadata": {},
   "outputs": [],
   "source": [
    "np.random.seed(seed)\n",
    "# a = np.arange(10)"
   ]
  },
  {
   "cell_type": "code",
   "execution_count": 19,
   "metadata": {},
   "outputs": [],
   "source": [
    "cifar_inds = np.arange(50000)\n",
    "ti_inds = np.arange(500000)\n"
   ]
  },
  {
   "cell_type": "code",
   "execution_count": 20,
   "metadata": {},
   "outputs": [],
   "source": [
    "np.random.seed(seed)\n",
    "np.random.shuffle(cifar_inds)\n",
    "np.random.seed(seed)\n",
    "np.random.shuffle(ti_inds)"
   ]
  },
  {
   "cell_type": "code",
   "execution_count": 21,
   "metadata": {},
   "outputs": [],
   "source": [
    "cifar_odd = cifar_inds[0:25000]\n",
    "cifar_even = cifar_inds[25000:]\n",
    "\n",
    "ti_odd = ti_inds[0:250000]\n",
    "ti_even = ti_inds[250000:]"
   ]
  },
  {
   "cell_type": "code",
   "execution_count": 9,
   "metadata": {},
   "outputs": [
    {
     "name": "stdout",
     "output_type": "stream",
     "text": [
      "[1 3 4 5 0 8 6 9 7 2]\n"
     ]
    }
   ],
   "source": [
    "print(a)"
   ]
  },
  {
   "cell_type": "code",
   "execution_count": 10,
   "metadata": {},
   "outputs": [
    {
     "data": {
      "text/plain": [
       "array([1, 3, 4, 5, 0])"
      ]
     },
     "execution_count": 10,
     "metadata": {},
     "output_type": "execute_result"
    }
   ],
   "source": [
    "a[0:5]"
   ]
  },
  {
   "cell_type": "code",
   "execution_count": 11,
   "metadata": {},
   "outputs": [
    {
     "data": {
      "text/plain": [
       "array([8, 6, 9, 7, 2])"
      ]
     },
     "execution_count": 11,
     "metadata": {},
     "output_type": "execute_result"
    }
   ],
   "source": [
    "a[5:]"
   ]
  },
  {
   "cell_type": "code",
   "execution_count": 22,
   "metadata": {},
   "outputs": [],
   "source": [
    "ti_odd_file = '../data/cifar-10-batches-py/odd_ti_list_v' + str(version)\n",
    "ti_even_file = '../data/cifar-10-batches-py/even_ti_list_v' + str(version)\n",
    "cifar_odd_file = '../data/cifar-10-batches-py/odd_cifar_list_v' + str(version)\n",
    "cifar_even_file = '../data/cifar-10-batches-py/even_cifar_list_v' + str(version)\n",
    "with open (ti_odd_file, 'wb') as fp:\n",
    "    pickle.dump(ti_odd, fp)\n",
    "with open (ti_even_file, 'wb') as fp:\n",
    "    pickle.dump(ti_even, fp)\n",
    "with open (cifar_odd_file, 'wb') as fp:\n",
    "    pickle.dump(cifar_odd, fp)\n",
    "with open (cifar_even_file, 'wb') as fp:\n",
    "    pickle.dump(cifar_even, fp)    "
   ]
  },
  {
   "cell_type": "code",
   "execution_count": 24,
   "metadata": {},
   "outputs": [
    {
     "data": {
      "text/plain": [
       "array([23656, 27442, 40162,  8459,  8051, 42404,    89,  1461, 13519,\n",
       "       42536])"
      ]
     },
     "execution_count": 24,
     "metadata": {},
     "output_type": "execute_result"
    }
   ],
   "source": [
    "cifar_odd[0:10]"
   ]
  },
  {
   "cell_type": "code",
   "execution_count": 25,
   "metadata": {},
   "outputs": [
    {
     "data": {
      "text/plain": [
       "array([], dtype=int64)"
      ]
     },
     "execution_count": 25,
     "metadata": {},
     "output_type": "execute_result"
    }
   ],
   "source": [
    "ti_even[0:10]"
   ]
  },
  {
   "cell_type": "code",
   "execution_count": null,
   "metadata": {},
   "outputs": [],
   "source": []
  }
 ],
 "metadata": {
  "kernelspec": {
   "display_name": "Python 3",
   "language": "python",
   "name": "python3"
  },
  "language_info": {
   "codemirror_mode": {
    "name": "ipython",
    "version": 3
   },
   "file_extension": ".py",
   "mimetype": "text/x-python",
   "name": "python",
   "nbconvert_exporter": "python",
   "pygments_lexer": "ipython3",
   "version": "3.7.6"
  }
 },
 "nbformat": 4,
 "nbformat_minor": 4
}
