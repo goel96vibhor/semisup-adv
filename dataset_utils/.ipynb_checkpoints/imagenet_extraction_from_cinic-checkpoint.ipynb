{
 "cells": [
  {
   "cell_type": "code",
   "execution_count": 2,
   "metadata": {},
   "outputs": [],
   "source": [
    "import os\n",
    "import glob\n",
    "import numpy as np\n",
    "from shutil import copyfile\n",
    "symlink = True    # If this is false the files are copied instead\n",
    "combine_train_valid = False    # If this is true, the train and valid sets are ALSO combined"
   ]
  },
  {
   "cell_type": "markdown",
   "metadata": {},
   "source": [
    "# Imagenet constituent samples' extraction\n",
    "This notebook shows how to construct a dataset that has no CIFAR samples. This can be used for other tasks or for assessment of models trained on CIFAR, to understand how well these models deal with distribution shift. \n",
    "\n",
    "#### ENSURE THAT CINIC-10 IS DOWNLOADED AND STORED IN ../data/cinic-10"
   ]
  },
  {
   "cell_type": "code",
   "execution_count": 1,
   "metadata": {},
   "outputs": [
    {
     "ename": "NameError",
     "evalue": "name 'os' is not defined",
     "output_type": "error",
     "traceback": [
      "\u001b[0;31m---------------------------------------------------------------------------\u001b[0m",
      "\u001b[0;31mNameError\u001b[0m                                 Traceback (most recent call last)",
      "\u001b[0;32m<ipython-input-1-20ef213f8af1>\u001b[0m in \u001b[0;36m<module>\u001b[0;34m\u001b[0m\n\u001b[1;32m      3\u001b[0m \u001b[0mclasses\u001b[0m \u001b[0;34m=\u001b[0m \u001b[0;34m[\u001b[0m\u001b[0;34m\"airplane\"\u001b[0m\u001b[0;34m,\u001b[0m \u001b[0;34m\"automobile\"\u001b[0m\u001b[0;34m,\u001b[0m \u001b[0;34m\"bird\"\u001b[0m\u001b[0;34m,\u001b[0m \u001b[0;34m\"cat\"\u001b[0m\u001b[0;34m,\u001b[0m \u001b[0;34m\"deer\"\u001b[0m\u001b[0;34m,\u001b[0m \u001b[0;34m\"dog\"\u001b[0m\u001b[0;34m,\u001b[0m \u001b[0;34m\"frog\"\u001b[0m\u001b[0;34m,\u001b[0m \u001b[0;34m\"horse\"\u001b[0m\u001b[0;34m,\u001b[0m \u001b[0;34m\"ship\"\u001b[0m\u001b[0;34m,\u001b[0m \u001b[0;34m\"truck\"\u001b[0m\u001b[0;34m]\u001b[0m\u001b[0;34m\u001b[0m\u001b[0;34m\u001b[0m\u001b[0m\n\u001b[1;32m      4\u001b[0m \u001b[0msets\u001b[0m \u001b[0;34m=\u001b[0m \u001b[0;34m[\u001b[0m\u001b[0;34m'train'\u001b[0m\u001b[0;34m,\u001b[0m \u001b[0;34m'valid'\u001b[0m\u001b[0;34m,\u001b[0m \u001b[0;34m'test'\u001b[0m\u001b[0;34m]\u001b[0m\u001b[0;34m\u001b[0m\u001b[0;34m\u001b[0m\u001b[0m\n\u001b[0;32m----> 5\u001b[0;31m \u001b[0;32mif\u001b[0m \u001b[0;32mnot\u001b[0m \u001b[0mos\u001b[0m\u001b[0;34m.\u001b[0m\u001b[0mpath\u001b[0m\u001b[0;34m.\u001b[0m\u001b[0mexists\u001b[0m\u001b[0;34m(\u001b[0m\u001b[0mimagenet_directory\u001b[0m\u001b[0;34m)\u001b[0m\u001b[0;34m:\u001b[0m\u001b[0;34m\u001b[0m\u001b[0;34m\u001b[0m\u001b[0m\n\u001b[0m\u001b[1;32m      6\u001b[0m     \u001b[0mos\u001b[0m\u001b[0;34m.\u001b[0m\u001b[0mmakedirs\u001b[0m\u001b[0;34m(\u001b[0m\u001b[0mimagenet_directory\u001b[0m\u001b[0;34m)\u001b[0m\u001b[0;34m\u001b[0m\u001b[0;34m\u001b[0m\u001b[0m\n\u001b[1;32m      7\u001b[0m \u001b[0;32mif\u001b[0m \u001b[0;32mnot\u001b[0m \u001b[0mos\u001b[0m\u001b[0;34m.\u001b[0m\u001b[0mpath\u001b[0m\u001b[0;34m.\u001b[0m\u001b[0mexists\u001b[0m\u001b[0;34m(\u001b[0m\u001b[0mimagenet_directory\u001b[0m \u001b[0;34m+\u001b[0m \u001b[0;34m'/train'\u001b[0m\u001b[0;34m)\u001b[0m\u001b[0;34m:\u001b[0m\u001b[0;34m\u001b[0m\u001b[0;34m\u001b[0m\u001b[0m\n",
      "\u001b[0;31mNameError\u001b[0m: name 'os' is not defined"
     ]
    }
   ],
   "source": [
    "cinic_directory = \"../CINIC_dataset/cinic_both\"\n",
    "imagenet_directory = \"../CINIC_dataset/cinic_imagenet\"\n",
    "classes = [\"airplane\", \"automobile\", \"bird\", \"cat\", \"deer\", \"dog\", \"frog\", \"horse\", \"ship\", \"truck\"]\n",
    "sets = ['train', 'valid', 'test']\n",
    "if not os.path.exists(imagenet_directory):\n",
    "    os.makedirs(imagenet_directory)\n",
    "if not os.path.exists(imagenet_directory + '/train'):\n",
    "    os.makedirs(imagenet_directory + '/train')\n",
    "if not os.path.exists(imagenet_directory + '/test'):\n",
    "    os.makedirs(imagenet_directory + '/test')\n",
    "    \n",
    "for c in classes:\n",
    "    if not os.path.exists('{}/train/{}'.format(imagenet_directory, c)):\n",
    "        os.makedirs('{}/train/{}'.format(imagenet_directory, c))\n",
    "    if not os.path.exists('{}/test/{}'.format(imagenet_directory, c)):\n",
    "        os.makedirs('{}/test/{}'.format(imagenet_directory, c))\n",
    "    if not combine_train_valid:\n",
    "        if not os.path.exists('{}/valid/{}'.format(imagenet_directory, c)):\n",
    "            os.makedirs('{}/valid/{}'.format(imagenet_directory, c))"
   ]
  },
  {
   "cell_type": "code",
   "execution_count": 16,
   "metadata": {},
   "outputs": [],
   "source": [
    "for s in sets:\n",
    "    for c in classes:\n",
    "        source_directory = '{}/{}/{}'.format(cinic_directory, s, c)\n",
    "        filenames = glob.glob('{}/*.png'.format(source_directory))\n",
    "        for fn in filenames:\n",
    "            dest_fn = fn.split('/')[-1]\n",
    "            if (s == 'train' or s == 'valid') and combine_train_valid and 'cifar' not in fn.split('/')[-1]:\n",
    "                dest_fn = '{}/train/{}/{}'.format(imagenet_directory, c, dest_fn)\n",
    "                if symlink:\n",
    "                    if not os.path.islink(dest_fn):\n",
    "                        os.symlink(fn, dest_fn)\n",
    "                else:\n",
    "                    copyfile(fn, dest_fn)\n",
    "                \n",
    "            elif (s == 'train') and 'cifar' not in fn.split('/')[-1]:\n",
    "                dest_fn = '{}/train/{}/{}'.format(imagenet_directory, c, dest_fn)\n",
    "                if symlink:\n",
    "                    if not os.path.islink(dest_fn):\n",
    "                        os.symlink(fn, dest_fn)\n",
    "                else:\n",
    "                    copyfile(fn, dest_fn)\n",
    "                    \n",
    "            elif (s == 'valid') and 'cifar' not in fn.split('/')[-1]:\n",
    "                dest_fn = '{}/valid/{}/{}'.format(imagenet_directory, c, dest_fn)\n",
    "                if symlink:\n",
    "                    if not os.path.islink(dest_fn):\n",
    "                        os.symlink(fn, dest_fn)\n",
    "                else:\n",
    "                    copyfile(fn, dest_fn)\n",
    "                    \n",
    "            elif s == 'test' and 'cifar' not in fn.split('/')[-1]:\n",
    "                dest_fn = '{}/test/{}/{}'.format(imagenet_directory, c, dest_fn)\n",
    "                if symlink:\n",
    "                    if not os.path.islink(dest_fn):\n",
    "                        os.symlink(fn, dest_fn)\n",
    "                else:\n",
    "                    copyfile(fn, dest_fn)\n",
    "                    "
   ]
  }
 ],
 "metadata": {
  "kernelspec": {
   "display_name": "Python 3",
   "language": "python",
   "name": "python3"
  },
  "language_info": {
   "codemirror_mode": {
    "name": "ipython",
    "version": 3
   },
   "file_extension": ".py",
   "mimetype": "text/x-python",
   "name": "python",
   "nbconvert_exporter": "python",
   "pygments_lexer": "ipython3",
   "version": "3.6.9"
  }
 },
 "nbformat": 4,
 "nbformat_minor": 2
}
