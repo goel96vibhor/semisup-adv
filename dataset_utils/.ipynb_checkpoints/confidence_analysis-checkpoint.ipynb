{
 "cells": [
  {
   "cell_type": "code",
   "execution_count": 1,
   "metadata": {},
   "outputs": [],
   "source": [
    "import pandas as pd\n",
    "import numpy as np\n",
    "import torch\n",
    "import time\n",
    "from datetime import datetime\n",
    "import os\n",
    "import matplotlib.pyplot as plt\n",
    "import torch.nn.functional as F\n",
    "import seaborn as sns\n",
    "from scipy.stats import norm"
   ]
  },
  {
   "cell_type": "markdown",
   "metadata": {},
   "source": [
    "# CIFAR-10 constituent samples' extraction\n",
    "This notebook shows how to construct a dataset that has only CIFAR samples. This can be used for other tasks or for assessment of models trained on the imagenet constituents, to understand how well these models deal with distribution shift. \n",
    "\n",
    "#### ENSURE THAT CINIC-10 IS DOWNLOADED AND STORED IN ../data/cinic-10"
   ]
  },
  {
   "cell_type": "code",
   "execution_count": 149,
   "metadata": {},
   "outputs": [],
   "source": [
    "br_file = '../cifar10-vs-ti/benrecht_cifar10.csv'\n",
    "cifar_file = '../cifar10-vs-ti/cifar10_test.csv'\n",
    "cinic_file = '../cifar10-vs-ti/cinic10_test.csv'\n",
    "ti_file = '../cifar10-vs-ti/tinyimages.csv'\n",
    "cifar_train_file = '../cifar10-vs-ti/cifar10_train.csv'\n",
    "cinic_train_file = '../cifar10-vs-ti/cinic10_train.csv'\n",
    "\n",
    "br_df = pd.read_csv(br_file)\n",
    "cifar_df = pd.read_csv(cifar_file)\n",
    "cinic_df = pd.read_csv(cinic_file)\n",
    "cifar_train_df = pd.read_csv(cifar_train_file)\n",
    "cinic_train_df = pd.read_csv(cinic_train_file)\n",
    "ti_df = pd.read_csv(ti_file)"
   ]
  },
  {
   "cell_type": "code",
   "execution_count": 150,
   "metadata": {},
   "outputs": [
    {
     "name": "stdout",
     "output_type": "stream",
     "text": [
      "(2021, 28)\n",
      "(10000, 28)\n",
      "(70000, 28)\n",
      "(50000, 28)\n",
      "(70000, 28)\n",
      "(50000, 28)\n"
     ]
    }
   ],
   "source": [
    "print(br_df.shape)\n",
    "print(cifar_df.shape)\n",
    "print(cinic_df.shape)\n",
    "print(cifar_train_df.shape)\n",
    "print(cinic_train_df.shape)\n",
    "print(ti_df.shape)"
   ]
  },
  {
   "cell_type": "code",
   "execution_count": 132,
   "metadata": {},
   "outputs": [
    {
     "data": {
      "text/html": [
       "<div>\n",
       "<style scoped>\n",
       "    .dataframe tbody tr th:only-of-type {\n",
       "        vertical-align: middle;\n",
       "    }\n",
       "\n",
       "    .dataframe tbody tr th {\n",
       "        vertical-align: top;\n",
       "    }\n",
       "\n",
       "    .dataframe thead th {\n",
       "        text-align: right;\n",
       "    }\n",
       "</style>\n",
       "<table border=\"1\" class=\"dataframe\">\n",
       "  <thead>\n",
       "    <tr style=\"text-align: right;\">\n",
       "      <th></th>\n",
       "      <th>0</th>\n",
       "      <th>1</th>\n",
       "      <th>2</th>\n",
       "      <th>3</th>\n",
       "      <th>4</th>\n",
       "      <th>5</th>\n",
       "      <th>6</th>\n",
       "      <th>7</th>\n",
       "      <th>8</th>\n",
       "      <th>9</th>\n",
       "      <th>10</th>\n",
       "      <th>11</th>\n",
       "      <th>12</th>\n",
       "      <th>13</th>\n",
       "      <th>14</th>\n",
       "    </tr>\n",
       "  </thead>\n",
       "  <tbody>\n",
       "    <tr>\n",
       "      <th>0</th>\n",
       "      <td>15315.0</td>\n",
       "      <td>0.0</td>\n",
       "      <td>0.000220</td>\n",
       "      <td>0.000211</td>\n",
       "      <td>0.000197</td>\n",
       "      <td>0.000225</td>\n",
       "      <td>0.000130</td>\n",
       "      <td>0.000250</td>\n",
       "      <td>0.000172</td>\n",
       "      <td>0.000123</td>\n",
       "      <td>0.000252</td>\n",
       "      <td>0.000345</td>\n",
       "      <td>0.997875</td>\n",
       "      <td>0.004904</td>\n",
       "      <td>0.000222</td>\n",
       "    </tr>\n",
       "    <tr>\n",
       "      <th>1</th>\n",
       "      <td>9114.0</td>\n",
       "      <td>0.0</td>\n",
       "      <td>0.000155</td>\n",
       "      <td>0.000345</td>\n",
       "      <td>0.000100</td>\n",
       "      <td>0.000227</td>\n",
       "      <td>0.000155</td>\n",
       "      <td>0.000198</td>\n",
       "      <td>0.000107</td>\n",
       "      <td>0.000221</td>\n",
       "      <td>0.000191</td>\n",
       "      <td>0.000351</td>\n",
       "      <td>0.997950</td>\n",
       "      <td>0.782901</td>\n",
       "      <td>0.001761</td>\n",
       "    </tr>\n",
       "    <tr>\n",
       "      <th>2</th>\n",
       "      <td>11485.0</td>\n",
       "      <td>0.0</td>\n",
       "      <td>0.000088</td>\n",
       "      <td>0.000160</td>\n",
       "      <td>0.000043</td>\n",
       "      <td>0.000101</td>\n",
       "      <td>0.000028</td>\n",
       "      <td>0.000040</td>\n",
       "      <td>0.000047</td>\n",
       "      <td>0.000017</td>\n",
       "      <td>0.000022</td>\n",
       "      <td>0.000042</td>\n",
       "      <td>0.999411</td>\n",
       "      <td>0.762853</td>\n",
       "      <td>0.046946</td>\n",
       "    </tr>\n",
       "    <tr>\n",
       "      <th>3</th>\n",
       "      <td>45427.0</td>\n",
       "      <td>0.0</td>\n",
       "      <td>0.000144</td>\n",
       "      <td>0.000244</td>\n",
       "      <td>0.000186</td>\n",
       "      <td>0.000104</td>\n",
       "      <td>0.001363</td>\n",
       "      <td>0.000279</td>\n",
       "      <td>0.000143</td>\n",
       "      <td>0.000348</td>\n",
       "      <td>0.000160</td>\n",
       "      <td>0.000183</td>\n",
       "      <td>0.996845</td>\n",
       "      <td>0.140101</td>\n",
       "      <td>0.000648</td>\n",
       "    </tr>\n",
       "    <tr>\n",
       "      <th>4</th>\n",
       "      <td>47502.0</td>\n",
       "      <td>0.0</td>\n",
       "      <td>0.000099</td>\n",
       "      <td>0.000153</td>\n",
       "      <td>0.000089</td>\n",
       "      <td>0.000074</td>\n",
       "      <td>0.000080</td>\n",
       "      <td>0.000097</td>\n",
       "      <td>0.000085</td>\n",
       "      <td>0.000123</td>\n",
       "      <td>0.000167</td>\n",
       "      <td>0.000169</td>\n",
       "      <td>0.998864</td>\n",
       "      <td>0.002683</td>\n",
       "      <td>0.001032</td>\n",
       "    </tr>\n",
       "  </tbody>\n",
       "</table>\n",
       "</div>"
      ],
      "text/plain": [
       "         0    1         2         3         4         5         6         7  \\\n",
       "0  15315.0  0.0  0.000220  0.000211  0.000197  0.000225  0.000130  0.000250   \n",
       "1   9114.0  0.0  0.000155  0.000345  0.000100  0.000227  0.000155  0.000198   \n",
       "2  11485.0  0.0  0.000088  0.000160  0.000043  0.000101  0.000028  0.000040   \n",
       "3  45427.0  0.0  0.000144  0.000244  0.000186  0.000104  0.001363  0.000279   \n",
       "4  47502.0  0.0  0.000099  0.000153  0.000089  0.000074  0.000080  0.000097   \n",
       "\n",
       "          8         9        10        11        12        13        14  \n",
       "0  0.000172  0.000123  0.000252  0.000345  0.997875  0.004904  0.000222  \n",
       "1  0.000107  0.000221  0.000191  0.000351  0.997950  0.782901  0.001761  \n",
       "2  0.000047  0.000017  0.000022  0.000042  0.999411  0.762853  0.046946  \n",
       "3  0.000143  0.000348  0.000160  0.000183  0.996845  0.140101  0.000648  \n",
       "4  0.000085  0.000123  0.000167  0.000169  0.998864  0.002683  0.001032  "
      ]
     },
     "execution_count": 132,
     "metadata": {},
     "output_type": "execute_result"
    }
   ],
   "source": [
    "ti_df[0:5].iloc[:,0:15]"
   ]
  },
  {
   "cell_type": "code",
   "execution_count": 151,
   "metadata": {},
   "outputs": [],
   "source": [
    "br_det_scores = br_df.iloc[:,2:13]\n",
    "cifar_det_scores = cifar_df.iloc[:,2:13]\n",
    "cinic_det_scores = cinic_df.iloc[:,2:13]\n",
    "ti_det_scores = ti_df.iloc[:,2:13]\n",
    "cifar_train_det_scores = cifar_train_df.iloc[:,2:13]\n",
    "cinic_train_det_scores = cinic_train_df.iloc[:,2:13]\n",
    "\n",
    "\n",
    "br_base_scores = br_df.iloc[:,13:23]\n",
    "cifar_base_scores = cifar_df.iloc[:,13:23]\n",
    "cinic_base_scores = cinic_df.iloc[:,13:23]\n",
    "ti_base_scores = ti_df.iloc[:,13:23]\n",
    "cifar_train_base_scores = cifar_train_df.iloc[:,13:23]\n",
    "cinic_train_base_scores = cinic_train_df.iloc[:,13:23]\n",
    "\n",
    "br_targets = br_df.iloc[:,1]\n",
    "cifar_targets = cifar_df.iloc[:,1]\n",
    "cinic_targets = cinic_df.iloc[:,1]\n",
    "ti_targets = ti_df.iloc[:,1]\n",
    "cifar_train_targets = cifar_train_df.iloc[:,1]\n",
    "cinic_train_targets = cinic_train_df.iloc[:,1]\n",
    "\n",
    "br_preds = br_df.iloc[:,23]\n",
    "cifar_preds = cifar_df.iloc[:,23]\n",
    "cinic_preds = cinic_df.iloc[:,23]\n",
    "ti_preds = ti_df.iloc[:,23]\n",
    "cifar_train_preds = cifar_train_df.iloc[:,23]\n",
    "cinic_train_preds = cinic_train_df.iloc[:,23]\n",
    "\n",
    "br_base_preds = br_df.iloc[:,24]\n",
    "cifar_base_preds = cifar_df.iloc[:,24]\n",
    "cinic_base_preds = cinic_df.iloc[:,24]\n",
    "ti_base_preds = ti_df.iloc[:,24]\n",
    "cifar_train_base_preds = cifar_train_df.iloc[:,24]\n",
    "cinic_train_base_preds = cinic_train_df.iloc[:,24]\n"
   ]
  },
  {
   "cell_type": "code",
   "execution_count": 152,
   "metadata": {
    "scrolled": true
   },
   "outputs": [
    {
     "name": "stdout",
     "output_type": "stream",
     "text": [
      "          2         3         4         5         6         7         8  \\\n",
      "0  0.000220  0.000211  0.000197  0.000225  0.000130  0.000250  0.000172   \n",
      "1  0.000155  0.000345  0.000100  0.000227  0.000155  0.000198  0.000107   \n",
      "2  0.000088  0.000160  0.000043  0.000101  0.000028  0.000040  0.000047   \n",
      "3  0.000144  0.000244  0.000186  0.000104  0.001363  0.000279  0.000143   \n",
      "4  0.000099  0.000153  0.000089  0.000074  0.000080  0.000097  0.000085   \n",
      "\n",
      "          9        10        11        12  \n",
      "0  0.000123  0.000252  0.000345  0.997875  \n",
      "1  0.000221  0.000191  0.000351  0.997950  \n",
      "2  0.000017  0.000022  0.000042  0.999411  \n",
      "3  0.000348  0.000160  0.000183  0.996845  \n",
      "4  0.000123  0.000167  0.000169  0.998864  \n",
      "         13        14        15        16        17        18        19  \\\n",
      "0  0.004904  0.000222  0.050344  0.117854  0.043294  0.763045  0.001195   \n",
      "1  0.782901  0.001761  0.029430  0.021935  0.001235  0.000380  0.012634   \n",
      "2  0.762853  0.046946  0.000054  0.007641  0.022469  0.007244  0.000749   \n",
      "3  0.140101  0.000648  0.497603  0.007120  0.106993  0.001737  0.000851   \n",
      "4  0.002683  0.001032  0.000050  0.000095  0.000025  0.000004  0.000369   \n",
      "\n",
      "         20        21        22  \n",
      "0  0.017115  0.000128  0.001900  \n",
      "1  0.008068  0.002549  0.139108  \n",
      "2  0.000739  0.001332  0.149974  \n",
      "3  0.239026  0.000779  0.005143  \n",
      "4  0.000008  0.994976  0.000758  \n",
      "0    0.0\n",
      "1    0.0\n",
      "2    0.0\n",
      "3    0.0\n",
      "4    0.0\n",
      "Name: 1, dtype: float64\n",
      "0    10.0\n",
      "1    10.0\n",
      "2    10.0\n",
      "3    10.0\n",
      "4    10.0\n",
      "Name: 23, dtype: float64\n",
      "0    5.0\n",
      "1    0.0\n",
      "2    0.0\n",
      "3    2.0\n",
      "4    8.0\n",
      "Name: 24, dtype: float64\n"
     ]
    }
   ],
   "source": [
    "# br_det_scores[0:5]\n",
    "print(ti_det_scores[0:5])\n",
    "print(ti_base_scores[0:5])\n",
    "print(ti_targets[0:5])\n",
    "print(ti_preds[0:5])\n",
    "print(ti_base_preds[0:5])"
   ]
  },
  {
   "cell_type": "code",
   "execution_count": 135,
   "metadata": {},
   "outputs": [
    {
     "data": {
      "text/plain": [
       "9613"
      ]
     },
     "execution_count": 135,
     "metadata": {},
     "output_type": "execute_result"
    }
   ],
   "source": [
    "# (pd.to_numeric(cifar_det_scores.iloc[:,0:10].idxmax(axis=1)) - 2 == cifar_targets).sum()\n",
    "# (cifar_preds == cifar_targets).sum()\n",
    "((pd.to_numeric(cifar_det_scores.iloc[:,0:10].idxmax(axis=1)) - 2) == cifar_targets).sum()\n",
    "# pd.to_numeric(cifar_det_scores[cifar_preds == 10].iloc[:,0:10].idxmax(axis=1)) -  2\n",
    "# ((pd.to_numeric(cifar_det_scores[cifar_preds == 10].iloc[:,0:10].idxmax(axis=1)) - 2) == cifar_targets[cifar_preds == 10]).sum()\n",
    "\n",
    "# ((pd.to_numeric(cifar_det_scores[cifar_preds != 10].iloc[:,0:10].idxmax(axis=1)) - 2) == cifar_targets[cifar_preds != 10]).sum()\n",
    "\n",
    "# (cifar_preds == 10).sum()\n",
    "\n",
    "# (cifar_base_preds[cifar_preds != 10] == cifar_targets[cifar_preds != 10]).sum()\n",
    "# len(cifar_targets)"
   ]
  },
  {
   "cell_type": "code",
   "execution_count": 153,
   "metadata": {},
   "outputs": [],
   "source": [
    "def verify(df, df_det_scores, df_base_scores, df_targets, df_preds, df_base_preds):\n",
    "    cifar10_correct = ((pd.to_numeric(df_det_scores.iloc[:,0:10].idxmax(axis=1)) - 2) == df_targets).sum()\n",
    "    total = len(df_targets)\n",
    "    \n",
    "    predti_pseudo_corr = ((pd.to_numeric(df_det_scores[df_preds == 10].iloc[:,0:10].idxmax(axis=1)) - 2) == df_targets[df_preds == 10]).sum()\n",
    "    predcifar_corr = ((pd.to_numeric(df_det_scores[df_preds != 10].iloc[:,0:10].idxmax(axis=1)) - 2) == df_targets[df_preds != 10]).sum()\n",
    "    \n",
    "    predti_count = (df_preds == 10).sum()\n",
    "    predcifar_count = (df_preds != 10).sum()\n",
    "    \n",
    "    base_cifar_correct = (df_base_preds == df_targets).sum()\n",
    "    base_predcifar_correct = (df_base_preds[df_preds != 10] == df_targets[df_preds != 10]).sum()\n",
    "    base_predti_correct = (df_base_preds[df_preds == 10] == df_targets[df_preds == 10]).sum()\n",
    "    \n",
    "    print(\"Total %d cifar10 correct %d\" %(total, cifar10_correct))\n",
    "    print(\"Predicted c10 count %d predicted c10 correct %d, predicted ti count %d pred ti pseudo correct %d\" \\\n",
    "              %(predcifar_count, predcifar_corr, predti_count, predti_pseudo_corr))\n",
    "    print(\"base cifar10 correct %d, base pred c10 corect  %d, base predicted ti correct %d\" \\\n",
    "                  %(base_cifar_correct, base_predcifar_correct, base_predti_correct))\n",
    "    \n",
    "    print('------------------------------------------------------------------------')\n",
    "    "
   ]
  },
  {
   "cell_type": "code",
   "execution_count": 154,
   "metadata": {},
   "outputs": [
    {
     "name": "stdout",
     "output_type": "stream",
     "text": [
      "Total 10000 cifar10 correct 9613\n",
      "Predicted c10 count 9154 predicted c10 correct 8998, predicted ti count 846 pred ti pseudo correct 615\n",
      "base cifar10 correct 9208, base pred c10 corect  8684, base predicted ti correct 524\n",
      "------------------------------------------------------------------------\n",
      "Total 2021 cifar10 correct 1828\n",
      "Predicted c10 count 1583 predicted c10 correct 1527, predicted ti count 438 pred ti pseudo correct 301\n",
      "base cifar10 correct 1682, base pred c10 corect  1429, base predicted ti correct 253\n",
      "------------------------------------------------------------------------\n",
      "Total 70000 cifar10 correct 49719\n",
      "Predicted c10 count 42331 predicted c10 correct 37084, predicted ti count 27669 pred ti pseudo correct 12635\n",
      "base cifar10 correct 45902, base pred c10 corect  34699, base predicted ti correct 11203\n",
      "------------------------------------------------------------------------\n",
      "Total 50000 cifar10 correct 3472\n",
      "Predicted c10 count 1644 predicted c10 correct 368, predicted ti count 48356 pred ti pseudo correct 3104\n",
      "base cifar10 correct 6052, base pred c10 corect  373, base predicted ti correct 5679\n",
      "------------------------------------------------------------------------\n",
      "Total 50000 cifar10 correct 50000\n",
      "Predicted c10 count 49987 predicted c10 correct 49987, predicted ti count 13 pred ti pseudo correct 13\n",
      "base cifar10 correct 48079, base pred c10 corect  48069, base predicted ti correct 10\n",
      "------------------------------------------------------------------------\n",
      "Total 70000 cifar10 correct 49852\n",
      "Predicted c10 count 42152 predicted c10 correct 37012, predicted ti count 27848 pred ti pseudo correct 12840\n",
      "base cifar10 correct 45994, base pred c10 corect  34619, base predicted ti correct 11375\n",
      "------------------------------------------------------------------------\n"
     ]
    }
   ],
   "source": [
    "verify(cifar_df, cifar_det_scores, cifar_base_scores, cifar_targets, cifar_preds, cifar_base_preds)\n",
    "verify(br_df, br_det_scores, br_base_scores, br_targets, br_preds, br_base_preds)\n",
    "verify(cinic_df, cinic_det_scores, cinic_base_scores, cinic_targets, cinic_preds, cinic_base_preds)\n",
    "verify(ti_df, ti_det_scores, ti_base_scores, ti_targets, ti_preds, ti_base_preds)\n",
    "\n",
    "verify(cifar_train_df, cifar_train_det_scores, cifar_train_base_scores, cifar_train_targets, cifar_train_preds, cifar_train_base_preds)\n",
    "verify(cinic_train_df, cinic_train_det_scores, cinic_train_base_scores, cinic_train_targets, cinic_train_preds, cinic_train_base_preds)"
   ]
  },
  {
   "cell_type": "code",
   "execution_count": 126,
   "metadata": {},
   "outputs": [],
   "source": [
    "df, df_det_scores, df_base_scores, df_targets, df_preds, df_base_preds = (cifar_df, cifar_det_scores, cifar_base_scores, cifar_targets, cifar_preds, cifar_base_preds)"
   ]
  },
  {
   "cell_type": "code",
   "execution_count": 140,
   "metadata": {},
   "outputs": [
    {
     "data": {
      "text/plain": [
       "10      0.998449\n",
       "12      0.999129\n",
       "15      0.632341\n",
       "23      0.999399\n",
       "25      0.790526\n",
       "          ...   \n",
       "2005    0.999652\n",
       "2008    0.998796\n",
       "2011    0.985885\n",
       "2016    0.615684\n",
       "2017    0.999631\n",
       "Name: 12, Length: 438, dtype: float64"
      ]
     },
     "execution_count": 140,
     "metadata": {},
     "output_type": "execute_result"
    }
   ],
   "source": [
    "br_det_scores[br_preds==10].iloc[:,-1]"
   ]
  },
  {
   "cell_type": "code",
   "execution_count": 144,
   "metadata": {},
   "outputs": [],
   "source": [
    "def plot_df_hist(df):\n",
    "    mu, std = norm.fit(df)\n",
    "    plt.figure()\n",
    "    plt.hist(df, bins = 100, histtype = 'bar')\n",
    "    xmin, xmax = plt.xlim()\n",
    "    x = np.linspace(xmin, xmax, 100)\n",
    "    p = norm.pdf(x, mu, std)\n",
    "    plt.plot(x, p, 'k', linewidth=2)\n",
    "    title = \"Softmax confidence Fit results: mu = %.2f,  std = %.2f, count = %d\" % (mu, std, len(df))\n",
    "    plt.title(title)\n",
    "    plt.xlabel(\"Max confidence of softmax outputs\")\n",
    "    plt.ylabel('Count')\n",
    "    # plt.title('Histogram of cross entropy loss for unlabeled data')\n",
    "    plt.show()"
   ]
  },
  {
   "cell_type": "code",
   "execution_count": 157,
   "metadata": {},
   "outputs": [],
   "source": [
    "def plot_det_11thclass_conf_on_hard_part_hist(df_det_scores, df_preds):\n",
    "    assert len(df_det_scores) == len(df_preds), 'length of dfs unequal'\n",
    "    plot_df_hist(br_det_scores[br_preds==10].iloc[:,-1])\n",
    "\n",
    "def plot_det_11thclass_conf_on_hard_part_hist(df_det_scores, df_preds):\n",
    "    assert len(df_det_scores) == len(df_preds), 'length of dfs unequal'\n",
    "    plot_df_hist(df_det_scores, df_preds)    \n",
    "\n",
    "def plot_base_target_conf_on_hard_part_hist(df_det_scores, df_preds):\n",
    "    assert len(df_det_scores) == len(df_preds), 'length of dfs unequal'\n",
    "    plot_df_hist(df_det_scores, df_preds)    "
   ]
  },
  {
   "cell_type": "code",
   "execution_count": null,
   "metadata": {},
   "outputs": [],
   "source": [
    "plot_hard_part_hist()"
   ]
  },
  {
   "cell_type": "code",
   "execution_count": 145,
   "metadata": {
    "scrolled": false
   },
   "outputs": [
    {
     "data": {
      "image/png": "[encoded data removed]",
      "text/plain": [
       "<Figure size 432x288 with 1 Axes>"
      ]
     },
     "metadata": {
      "needs_background": "light"
     },
     "output_type": "display_data"
    }
   ],
   "source": [
    "plot_df_hist(br_det_scores[br_preds==10].iloc[:,-1])"
   ]
  },
  {
   "cell_type": "code",
   "execution_count": 146,
   "metadata": {},
   "outputs": [
    {
     "data": {
      "image/png": "[encoded data removed]",
      "text/plain": [
       "<Figure size 432x288 with 1 Axes>"
      ]
     },
     "metadata": {
      "needs_background": "light"
     },
     "output_type": "display_data"
    }
   ],
   "source": [
    "plot_df_hist(ti_det_scores[ti_preds==10].iloc[:,-1])"
   ]
  },
  {
   "cell_type": "code",
   "execution_count": 148,
   "metadata": {},
   "outputs": [
    {
     "data": {
      "image/png": "[encoded data removed]",
      "text/plain": [
       "<Figure size 432x288 with 1 Axes>"
      ]
     },
     "metadata": {
      "needs_background": "light"
     },
     "output_type": "display_data"
    }
   ],
   "source": [
    "plot_df_hist(cifar_det_scores[cifar_preds==10].iloc[:,-1])"
   ]
  },
  {
   "cell_type": "code",
   "execution_count": 156,
   "metadata": {
    "scrolled": true
   },
   "outputs": [
    {
     "data": {
      "image/png": "[encoded data removed]",
      "text/plain": [
       "<Figure size 432x288 with 1 Axes>"
      ]
     },
     "metadata": {
      "needs_background": "light"
     },
     "output_type": "display_data"
    }
   ],
   "source": [
    "plot_df_hist(cifar_train_det_scores[cifar_train_preds==10].iloc[:,-1])"
   ]
  },
  {
   "cell_type": "code",
   "execution_count": null,
   "metadata": {},
   "outputs": [],
   "source": []
  }
 ],
 "metadata": {
  "kernelspec": {
   "display_name": "Python 3",
   "language": "python",
   "name": "python3"
  },
  "language_info": {
   "codemirror_mode": {
    "name": "ipython",
    "version": 3
   },
   "file_extension": ".py",
   "mimetype": "text/x-python",
   "name": "python",
   "nbconvert_exporter": "python",
   "pygments_lexer": "ipython3",
   "version": "3.6.9"
  }
 },
 "nbformat": 4,
 "nbformat_minor": 2
}
